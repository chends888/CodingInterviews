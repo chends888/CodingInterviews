{
 "cells": [
  {
   "cell_type": "markdown",
   "metadata": {},
   "source": [
    "# Python Pythônico\n",
    "\n",
    "## Objetivo\n",
    "\n",
    "Assim como línguas possuem construções específicas que fazem uma pessoa soar um falante nativa (ex. gírias, sotaques, ditados populares), cada liguagem de programação também possui sua forma idiomática. Um exemplo é a linguagem C++. É possível escrever um código inteiramente em C e compilá-lo como C++. Isso não quer dizer que você sabe programar em C++. Um programador C++ experiente será capaz de identificar facilmente uma falta de fluência na linguagem ao ler esse código. \n",
    "\n",
    "Ainda na analogia das línguas, programar da mesma forma em todas as linguagens é como se você traduzisse uma frase palavra por palavra de uma língua para outra. Talvez ainda seja possível compreender o significado geral da frase (o código pode funcionar), mas um falante nativo não terá dúvidas de que você não é proficiente nessa língua. \n",
    "\n",
    "O objetivo deste notebook é trabalhar alguns conceitos específicos da linguagem Python a fim de desenvolvermos mais fluência e assim escrevermos código cada vez mais \"Pythônico\". \n",
    "\n",
    "## O que eu devo fazer?\n",
    "\n",
    "Siga a leitura das células abaixo e tente fazer os exercícios. Você não precisa criar células adicionais. Basta completar as células de código com o que falta e as células de texto com as respostas para as perguntas que forem feitas. \n",
    "\n",
    "Algumas células possuem código de teste. Não modifique essa parte do código (ele está devidamente identificado com um comentário). Nesses casos, você deve escrever o código que faça os testes passarem, ou seja, a célula deve executar sem erros."
   ]
  },
  {
   "cell_type": "code",
   "execution_count": 2,
   "metadata": {},
   "outputs": [],
   "source": [
    "# Imports\n",
    "import sys\n",
    "import string\n",
    "import random\n",
    "import cProfile\n",
    "import matplotlib.pyplot as plt"
   ]
  },
  {
   "cell_type": "markdown",
   "metadata": {},
   "source": [
    "## Trabalhando com Coleções\n",
    "\n",
    "### Iterando sobre o índice e elemento ao mesmo tempo\n",
    "\n",
    "Para aquecer, vamos praticar o uso da função `enumerate`. \n",
    "\n",
    "**Exercício:** Escreva um código que imprime o índice e o seu respectivo elemento em uma lista utilizando o `enumerate`. Para facilitar, veja a documentação da função:"
   ]
  },
  {
   "cell_type": "code",
   "execution_count": 3,
   "metadata": {},
   "outputs": [
    {
     "name": "stdout",
     "output_type": "stream",
     "text": [
      "Help on class enumerate in module builtins:\n",
      "\n",
      "class enumerate(object)\n",
      " |  enumerate(iterable, start=0)\n",
      " |  \n",
      " |  Return an enumerate object.\n",
      " |  \n",
      " |    iterable\n",
      " |      an object supporting iteration\n",
      " |  \n",
      " |  The enumerate object yields pairs containing a count (from start, which\n",
      " |  defaults to zero) and a value yielded by the iterable argument.\n",
      " |  \n",
      " |  enumerate is useful for obtaining an indexed list:\n",
      " |      (0, seq[0]), (1, seq[1]), (2, seq[2]), ...\n",
      " |  \n",
      " |  Methods defined here:\n",
      " |  \n",
      " |  __getattribute__(self, name, /)\n",
      " |      Return getattr(self, name).\n",
      " |  \n",
      " |  __iter__(self, /)\n",
      " |      Implement iter(self).\n",
      " |  \n",
      " |  __next__(self, /)\n",
      " |      Implement next(self).\n",
      " |  \n",
      " |  __reduce__(...)\n",
      " |      Return state information for pickling.\n",
      " |  \n",
      " |  ----------------------------------------------------------------------\n",
      " |  Static methods defined here:\n",
      " |  \n",
      " |  __new__(*args, **kwargs) from builtins.type\n",
      " |      Create and return a new object.  See help(type) for accurate signature.\n",
      "\n"
     ]
    }
   ],
   "source": [
    "help(enumerate)  # Implemente sua solução NA PRÓXIMA CÉLULA"
   ]
  },
  {
   "cell_type": "code",
   "execution_count": 4,
   "metadata": {},
   "outputs": [
    {
     "name": "stdout",
     "output_type": "stream",
     "text": [
      "0 a\n",
      "1 b\n",
      "2 c\n"
     ]
    }
   ],
   "source": [
    "# Implemente aqui a sua solução\n",
    "def my_enum(list1):\n",
    "    for item, i in enumerate(list1):\n",
    "        print(item, i)\n",
    "my_enum(['a', 'b', 'c'])"
   ]
  },
  {
   "cell_type": "markdown",
   "metadata": {},
   "source": [
    "### Comprehensions\n",
    "\n",
    "Comprehensions são uma maneira alternativa para criar de coleções em Python. Pesquise sobre *list comprehension*, *set comprehension* e *dictionary comprehension*. Uma possível fonte é: https://python-3-patterns-idioms-test.readthedocs.io/en/latest/Comprehensions.html\n",
    "\n",
    "**Exercício:** Escreva na célula abaixo um código usando comprehensions que gere (um por linha):\n",
    "\n",
    "1. Uma lista contendo todos os números pares entre 2 e 1000;\n",
    "1. Um set contendo todos os caracteres da string `'the quick brown fox jumps over the lazy dog'` (curiosidade, essa frase é um [pangrama](https://pt.wikipedia.org/wiki/Pangrama));\n",
    "1. Um dicionário cujas chaves são quadrados perfeitos e os valores são suas respectivas raízes. Os valores devem ser todos os números entre 1 e 1000."
   ]
  },
  {
   "cell_type": "code",
   "execution_count": 5,
   "metadata": {},
   "outputs": [],
   "source": [
    "# Escreva sua solução aqui\n",
    "\n",
    "# Solução 1\n",
    "pares = [num for num in range(2, 1001) if num % 2 == 0]  # Preencha com a solução\n",
    "# Solução 2\n",
    "caracteres = {c for c in 'the quick brown fox jumps over the lazy dog'}  # Preencha com a solução\n",
    "# Solução 3\n",
    "quadrados = {num**2: num for num in range(1, 1001)}  # Preencha com a solução\n",
    "\n",
    "# NÃO MODIFIQUE AS LINHAS ABAIXO\n",
    "# Teste da lista de pares\n",
    "assert len(pares) == 500\n",
    "for i in range(2, 1001, 2):\n",
    "    assert i in pares\n",
    "# Teste do set de caracteres\n",
    "assert len(caracteres) == 27\n",
    "for c in string.ascii_lowercase + ' ':\n",
    "    assert c in caracteres\n",
    "# Teste do dicionário de quadrados perfeitos\n",
    "assert len(quadrados) == 1000\n",
    "for i in range(1, 1001):\n",
    "    assert i**2 in quadrados\n",
    "    assert quadrados[i**2] == i"
   ]
  },
  {
   "cell_type": "markdown",
   "metadata": {},
   "source": [
    "### Usando comprehensions para filtrar elementos\n",
    "\n",
    "Comprehensions também aceitam condições. Essas condições podem ser usadas para decidir se um elemento entra ou não no resultado final. Esse efeito é obtido ao se adicionar um `if` no final da comprehension de acordo com o seguinte formato:\n",
    "\n",
    "```python\n",
    "resultado = [variavel for variavel in colecao if condicao(variavel)]\n",
    "```\n",
    "\n",
    "Note que a `variavel` está disponível para a `condicao`.\n",
    "\n",
    "**Exercício:** Utilize list comprehension para gerar uma lista contendo somente os números pares que estão na lista `a`.\n",
    "\n",
    "**Observação:** O Python também possui uma função `filter` que pode ser utilizada para obter um efeito semelhante."
   ]
  },
  {
   "cell_type": "code",
   "execution_count": 6,
   "metadata": {},
   "outputs": [],
   "source": [
    "a = [i for i in range(0, 100, 3)]\n",
    "pares_em_a = [num for num in a if num % 2 == 0]  # Faça aqui a sua list comprehension\n",
    "\n",
    "\n",
    "# NÃO MODIFIQUE AS LINHAS ABAIXO\n",
    "# Teste da lista de números pares em a\n",
    "assert len(pares_em_a) == 17\n",
    "for i in a:\n",
    "    if i % 2 == 0:\n",
    "        assert i in pares_em_a\n",
    "    else:\n",
    "        assert i not in pares_em_a"
   ]
  },
  {
   "cell_type": "markdown",
   "metadata": {},
   "source": [
    "Aproveitando que estamos falando de `if`'s, vamos ver como fazer expressões condicionais. Para isso, leia esta seção: https://realpython.com/python-conditional-statements/#conditional-expressions-pythons-ternary-operator\n",
    "\n",
    "**Exercício:** Escreva um código de uma linha para atribuir um valor a uma nova variável `b`. Esse valor depende do valor aleatório de `a`: se `a` é par, `b` recebe o mesmo valor de `a`; caso contrário, `b` recebe `-1`."
   ]
  },
  {
   "cell_type": "code",
   "execution_count": 7,
   "metadata": {},
   "outputs": [],
   "source": [
    "a = random.randint(1, 10000)\n",
    "b = a if a % 2 == 0 else -1  # Substitua o None pela expressão condicional\n",
    "\n",
    "\n",
    "# NÃO MODIFIQUE AS LINHAS ABAIXO\n",
    "# Teste do valor de b\n",
    "if a % 2 == 0:\n",
    "    assert b == a\n",
    "else:\n",
    "    assert b == -1"
   ]
  },
  {
   "cell_type": "markdown",
   "metadata": {},
   "source": [
    "**Exercício:** Vamos combinar os dois conceitos anteriores. Crie uma lista que contém somente os números da lista `a` que são múltiplos de 5. Se o número for ímpar, ele deve ser substituído por -1. Utilize list comprehension.\n",
    "\n",
    "<div class=\"alert alert-block alert-success\">\n",
    "Como você vai perceber neste exercício, list comprehensions se tornam incompreensíveis rapidamente (pun intended). Aqui só queremos usar comprehensions para fins de estudo, mas se as condições começam a ficar muito complexas pode ser melhor utilizar o bom e velho <code>append</code>. Lembre-se que a legibilidade do código é mais importante do que usar recursos avançados da linguagem.\n",
    "</div>"
   ]
  },
  {
   "cell_type": "code",
   "execution_count": 1,
   "metadata": {},
   "outputs": [
    {
     "name": "stdout",
     "output_type": "stream",
     "text": [
      "[0, -1, 30, -1, 60, -1, 90, -1, 120, -1, 150, -1, 180, -1, 210, -1, 240, -1, 270, -1, 300, -1, 330, -1, 360, -1, 390, -1, 420, -1, 450, -1, 480, -1, 510, -1, 540, -1, 570, -1, 600, -1, 630, -1, 660, -1, 690, -1, 720, -1, 750, -1, 780, -1, 810, -1, 840, -1, 870, -1, 900, -1, 930, -1, 960, -1, 990]\n"
     ]
    }
   ],
   "source": [
    "a = [i for i in range(0, 1000, 3)]\n",
    "filtrado = [num if num % 2 == 0 else -1 for num in a if num % 5 == 0]  # Substitua pelo seu código\n",
    "print(filtrado)\n",
    "# NÃO MODIFIQUE AS LINHAS ABAIXO\n",
    "assert len(filtrado) == 67\n",
    "for i in a:\n",
    "    if i % 5 == 0 and i % 2 == 0:\n",
    "        assert i in filtrado\n",
    "    else:\n",
    "        assert i not in filtrado\n",
    "assert sum(i == -1 for i in filtrado) == 33"
   ]
  },
  {
   "cell_type": "markdown",
   "metadata": {},
   "source": [
    "### Usando comprehensions para aplicar uma função a todos os elementos\n",
    "\n",
    "Podemos utilizar comprehensions para criar novas coleções contendo o resultado de uma função ou operação aplicada a todos os elementos da coleção original.\n",
    "\n",
    "**Observação:** O Python possui uma função `map` que pode ser utilizada para obter um efeito semelhante."
   ]
  },
  {
   "cell_type": "code",
   "execution_count": 9,
   "metadata": {},
   "outputs": [
    {
     "name": "stdout",
     "output_type": "stream",
     "text": [
      "[0, 1, 4, 9, 16, 25, 36, 49, 64, 81]\n"
     ]
    }
   ],
   "source": [
    "# Exemplo\n",
    "def quadrado(n):\n",
    "    return n**2\n",
    "\n",
    "\n",
    "print([quadrado(i) for i in range(10)])"
   ]
  },
  {
   "cell_type": "markdown",
   "metadata": {},
   "source": [
    "**Exercício:** Escreva uma list comprehension que retorna uma lista contendo os tamanhos das strings da lista original."
   ]
  },
  {
   "cell_type": "code",
   "execution_count": 10,
   "metadata": {},
   "outputs": [],
   "source": [
    "strings = ['a' * i for i in range(100)]\n",
    "\n",
    "\n",
    "tamanhos = [len(s) for s in strings]  # Substitua pela sua list comprehension\n",
    "\n",
    "\n",
    "# NÃO MODIFIQUE O CÓDIGO ABAIXO\n",
    "for i, string in enumerate(strings):\n",
    "    assert len(string) == tamanhos[i]"
   ]
  },
  {
   "cell_type": "markdown",
   "metadata": {},
   "source": [
    "**Exercício:** Utilize a função `map` para implementar a mesma operação da célula acima."
   ]
  },
  {
   "cell_type": "code",
   "execution_count": 11,
   "metadata": {},
   "outputs": [
    {
     "name": "stdout",
     "output_type": "stream",
     "text": [
      "Help on class map in module builtins:\n",
      "\n",
      "class map(object)\n",
      " |  map(func, *iterables) --> map object\n",
      " |  \n",
      " |  Make an iterator that computes the function using arguments from\n",
      " |  each of the iterables.  Stops when the shortest iterable is exhausted.\n",
      " |  \n",
      " |  Methods defined here:\n",
      " |  \n",
      " |  __getattribute__(self, name, /)\n",
      " |      Return getattr(self, name).\n",
      " |  \n",
      " |  __iter__(self, /)\n",
      " |      Implement iter(self).\n",
      " |  \n",
      " |  __next__(self, /)\n",
      " |      Implement next(self).\n",
      " |  \n",
      " |  __reduce__(...)\n",
      " |      Return state information for pickling.\n",
      " |  \n",
      " |  ----------------------------------------------------------------------\n",
      " |  Static methods defined here:\n",
      " |  \n",
      " |  __new__(*args, **kwargs) from builtins.type\n",
      " |      Create and return a new object.  See help(type) for accurate signature.\n",
      "\n"
     ]
    }
   ],
   "source": [
    "help(map)"
   ]
  },
  {
   "cell_type": "code",
   "execution_count": 12,
   "metadata": {},
   "outputs": [],
   "source": [
    "def calc_len(elem):\n",
    "    return len(elem)\n",
    "strings = ['a' * i for i in range(100)]\n",
    "\n",
    "\n",
    "tamanhos2 = list(map(calc_len, strings))  # Substitua essa linha pela sua chamada da função map\n",
    "\n",
    "# NÃO MODIFIQUE O CÓDIGO ABAIXO\n",
    "for i, string in enumerate(strings):\n",
    "    assert len(string) == tamanhos2[i]"
   ]
  },
  {
   "cell_type": "markdown",
   "metadata": {},
   "source": [
    "## Generators\n",
    "\n",
    "Considere as duas implementações de Fibonacci abaixo:"
   ]
  },
  {
   "cell_type": "code",
   "execution_count": 13,
   "metadata": {},
   "outputs": [
    {
     "name": "stdout",
     "output_type": "stream",
     "text": [
      "1\n",
      "2\n",
      "3\n",
      "5\n",
      "8\n",
      "13\n",
      "1\n",
      "2\n",
      "3\n",
      "5\n",
      "8\n",
      "13\n"
     ]
    }
   ],
   "source": [
    "def fibonacci1(n):\n",
    "    prev = 1\n",
    "    curr = 1\n",
    "    yield 1\n",
    "    for _ in range(n-1):\n",
    "        prev, curr = curr, curr + prev\n",
    "        yield curr\n",
    "\n",
    "        \n",
    "def fibonacci2(n):\n",
    "    result = [1]\n",
    "    prev = 1\n",
    "    curr = 1\n",
    "    for _ in range(n-1):\n",
    "        prev, curr = curr, curr + prev\n",
    "        result.append(curr)\n",
    "    return result\n",
    "\n",
    "# Testando as funções\n",
    "for i in fibonacci1(6):\n",
    "    print(i)\n",
    "\n",
    "for i in fibonacci2(6):\n",
    "    print(i)"
   ]
  },
  {
   "cell_type": "markdown",
   "metadata": {},
   "source": [
    "**Exercício:** Na célula abaixo, imprima o resultado da chamada da função `type` para `fibonacci1(6)` e `fibonacci2(6)`. "
   ]
  },
  {
   "cell_type": "code",
   "execution_count": 14,
   "metadata": {},
   "outputs": [
    {
     "name": "stdout",
     "output_type": "stream",
     "text": [
      "<class 'generator'>\n",
      "<class 'list'>\n"
     ]
    }
   ],
   "source": [
    "# Implemente aqui os dois prints\n",
    "print(type(fibonacci1(1)))\n",
    "print(type(fibonacci2(1)))"
   ]
  },
  {
   "cell_type": "markdown",
   "metadata": {},
   "source": [
    "**Exercício:** Vamos analisar as duas versões. Utilize a função `sys.getsizeof` para verificar a quantidade de memória utilizada por `fibonacci1(i)` e `fibonacci2(i)`, para `i` variando entre 1 e 1000. Gere um gráfico com o resultado (`matplotlib.pyplot` já está importado como `plt`)."
   ]
  },
  {
   "cell_type": "code",
   "execution_count": 15,
   "metadata": {},
   "outputs": [
    {
     "data": {
      "text/plain": [
       "[<matplotlib.lines.Line2D at 0x7f409e945a90>]"
      ]
     },
     "execution_count": 15,
     "metadata": {},
     "output_type": "execute_result"
    },
    {
     "data": {
      "image/png": "[encoded data removed]",
      "text/plain": [
       "<Figure size 432x288 with 1 Axes>"
      ]
     },
     "metadata": {
      "needs_background": "light"
     },
     "output_type": "display_data"
    }
   ],
   "source": [
    "# Gere o gráfico aqui\n",
    "seq1 = []\n",
    "seq2 = []\n",
    "for i in range(1000):\n",
    "    seq1.append(sys.getsizeof(fibonacci1(i)))\n",
    "\n",
    "for i in range(1000):\n",
    "    seq2.append(sys.getsizeof(fibonacci2(i)))\n",
    "\n",
    "plt.plot(seq1)\n",
    "plt.plot(seq2)"
   ]
  },
  {
   "cell_type": "markdown",
   "metadata": {},
   "source": [
    "**Exercício:** Utilize a função `cProfle.run` para executar o código `[f for f in fibonacci1(500000)]` e `[f for f in fibonacci2(500000)]`. Um dos códigos deve ser consideravelmente mais rápido do que o outro."
   ]
  },
  {
   "cell_type": "code",
   "execution_count": 23,
   "metadata": {},
   "outputs": [
    {
     "name": "stdout",
     "output_type": "stream",
     "text": [
      "         300005 function calls in 6.160 seconds\n",
      "\n",
      "   Ordered by: standard name\n",
      "\n",
      "   ncalls  tottime  percall  cumtime  percall filename:lineno(function)\n",
      "   300001    5.888    0.000    5.888    0.000 <ipython-input-13-2b0beccdc3fc>:1(fibonacci1)\n",
      "        1    0.083    0.083    5.971    5.971 <string>:1(<listcomp>)\n",
      "        1    0.189    0.189    6.160    6.160 <string>:1(<module>)\n",
      "        1    0.000    0.000    6.160    6.160 {built-in method builtins.exec}\n",
      "        1    0.000    0.000    0.000    0.000 {method 'disable' of '_lsprof.Profiler' objects}\n",
      "\n",
      "\n",
      "         300004 function calls in 2.474 seconds\n",
      "\n",
      "   Ordered by: standard name\n",
      "\n",
      "   ncalls  tottime  percall  cumtime  percall filename:lineno(function)\n",
      "        1    2.249    2.249    2.272    2.272 <ipython-input-13-2b0beccdc3fc>:10(fibonacci2)\n",
      "        1    0.026    0.026    0.026    0.026 <string>:1(<listcomp>)\n",
      "        1    0.176    0.176    2.474    2.474 <string>:1(<module>)\n",
      "        1    0.000    0.000    2.474    2.474 {built-in method builtins.exec}\n",
      "   299999    0.023    0.000    0.023    0.000 {method 'append' of 'list' objects}\n",
      "        1    0.000    0.000    0.000    0.000 {method 'disable' of '_lsprof.Profiler' objects}\n",
      "\n",
      "\n"
     ]
    }
   ],
   "source": [
    "# Escreva seu código aqui\n",
    "cProfile.run('[f for f in fibonacci1(300000)]')\n",
    "cProfile.run('[f for f in fibonacci2(300000)]')"
   ]
  },
  {
   "cell_type": "markdown",
   "metadata": {},
   "source": [
    "**Exercício:** Pesquise a diferença entre os dois tipos (de `fibonacci1` e `fibonacci2`) e escreva um parágrafo curto contando o que descobriu. Comente sobre as diferenças observadas nas células acima. Comente brevemente sobre as vantagens e desvantagens de cada solução.\n",
    "\n",
    "Uma boa referência é: https://realpython.com/introduction-to-python-generators/\n",
    "\n",
    "**Resposta:**\n",
    "\n",
    "Percebe-se que o uso do yield comparado ao uso de uma lista é mais leve em termos de memória e mais lento em termos de tempo, sendo perceptível com o aumento do n (número de elementos para cálculo da sequência).\n",
    "\n",
    "O yield é mais lento pois o seu uso implica em múltiplas chamadas da função, resultando em uma execução mais lenta do que o uso do return, o qual realiza apenas uma execução.\n",
    "\n",
    "Porém o seu uso é mais leve pois não armazena valores intermediários, fato que ocorre na função que utiliza return, armazenando todos os valores em uma lista."
   ]
  },
  {
   "cell_type": "markdown",
   "metadata": {},
   "source": [
    "## Iterators\n",
    "\n",
    "*Iterators* são comumente confundidos com generators, pois o seu uso é muitas vezes parecido. Já vimos o que são generators na seção acima. Nesta seção vamos discutir brevemente o que são *iterators*.\n",
    "\n",
    "*Iterators* são objetos que implementam o protocolo de um iterador (ok, não ajudou muito). Em outras palavras, são objetos que implementam os métodos mágicos `__iter__()` e `__next__()`.\n",
    "\n",
    "<div class=\"alert alert-block alert-success\">\n",
    "<b>Uma palavra sobre métodos mágicos/especiais (ou dunder methods):</b> Você já deve ter visto métodos que começam e terminam com dois underscores em Python. Pela preguiça de falar toda vez <i>\"underscore, underscore método underscore underscore\"</i>, a comunidade Python passou a chamar esse duplo underscore no começo e fim do método de <i>dunder</i>. Talvez o exemplo mais famoso seja o <code>__init__()</code> (<it>dunder init</it>). Em geral, esses métodos não são chamados explicitamente. O próprio Python os chama quando necessário. Por exemplo, quando vamos comparar um objeto <code>a</code> com um objeto <code>b</code> usando o sinal de menor (<code>a < b</code>) o Python chama o método <code>a.__lt__(b)</code>. <a href=\"https://dbader.org/blog/python-dunder-methods\">[Para saber mais]</a>.\n",
    "</div>\n",
    "    \n",
    "Você já se perguntou como o `for` do Python funciona? Considere o seguinte código:\n",
    "\n",
    "```python\n",
    "lista = [1, 2, 3, 4, 5]\n",
    "for elemento in lista:\n",
    "    print(elemento)\n",
    "```\n",
    "\n",
    "Ele é traduzido para algo parecido com:\n",
    "\n",
    "```python\n",
    "lista = [1, 2, 3, 4, 5]\n",
    "iterator = iter(lista)\n",
    "while True:\n",
    "    try:\n",
    "        elemento = next(iterator)\n",
    "    except StopIteration:\n",
    "        break\n",
    "    print(elemento)\n",
    "```\n",
    "\n",
    "Mas vamos com calma. Vamos entender o que está acontecendo nas células abaixo.\n",
    "\n",
    "Para saber mais: \n",
    "- https://realpython.com/python-for-loop/\n",
    "- https://anandology.com/python-practice-book/iterators.html\n"
   ]
  },
  {
   "cell_type": "code",
   "execution_count": 17,
   "metadata": {},
   "outputs": [
    {
     "name": "stdout",
     "output_type": "stream",
     "text": [
      "Help on list object:\n",
      "\n",
      "class list(object)\n",
      " |  list(iterable=(), /)\n",
      " |  \n",
      " |  Built-in mutable sequence.\n",
      " |  \n",
      " |  If no argument is given, the constructor creates a new empty list.\n",
      " |  The argument must be an iterable if specified.\n",
      " |  \n",
      " |  Methods defined here:\n",
      " |  \n",
      " |  __add__(self, value, /)\n",
      " |      Return self+value.\n",
      " |  \n",
      " |  __contains__(self, key, /)\n",
      " |      Return key in self.\n",
      " |  \n",
      " |  __delitem__(self, key, /)\n",
      " |      Delete self[key].\n",
      " |  \n",
      " |  __eq__(self, value, /)\n",
      " |      Return self==value.\n",
      " |  \n",
      " |  __ge__(self, value, /)\n",
      " |      Return self>=value.\n",
      " |  \n",
      " |  __getattribute__(self, name, /)\n",
      " |      Return getattr(self, name).\n",
      " |  \n",
      " |  __getitem__(...)\n",
      " |      x.__getitem__(y) <==> x[y]\n",
      " |  \n",
      " |  __gt__(self, value, /)\n",
      " |      Return self>value.\n",
      " |  \n",
      " |  __iadd__(self, value, /)\n",
      " |      Implement self+=value.\n",
      " |  \n",
      " |  __imul__(self, value, /)\n",
      " |      Implement self*=value.\n",
      " |  \n",
      " |  __init__(self, /, *args, **kwargs)\n",
      " |      Initialize self.  See help(type(self)) for accurate signature.\n",
      " |  \n",
      " |  __iter__(self, /)\n",
      " |      Implement iter(self).\n",
      " |  \n",
      " |  __le__(self, value, /)\n",
      " |      Return self<=value.\n",
      " |  \n",
      " |  __len__(self, /)\n",
      " |      Return len(self).\n",
      " |  \n",
      " |  __lt__(self, value, /)\n",
      " |      Return self<value.\n",
      " |  \n",
      " |  __mul__(self, value, /)\n",
      " |      Return self*value.\n",
      " |  \n",
      " |  __ne__(self, value, /)\n",
      " |      Return self!=value.\n",
      " |  \n",
      " |  __repr__(self, /)\n",
      " |      Return repr(self).\n",
      " |  \n",
      " |  __reversed__(self, /)\n",
      " |      Return a reverse iterator over the list.\n",
      " |  \n",
      " |  __rmul__(self, value, /)\n",
      " |      Return value*self.\n",
      " |  \n",
      " |  __setitem__(self, key, value, /)\n",
      " |      Set self[key] to value.\n",
      " |  \n",
      " |  __sizeof__(self, /)\n",
      " |      Return the size of the list in memory, in bytes.\n",
      " |  \n",
      " |  append(self, object, /)\n",
      " |      Append object to the end of the list.\n",
      " |  \n",
      " |  clear(self, /)\n",
      " |      Remove all items from list.\n",
      " |  \n",
      " |  copy(self, /)\n",
      " |      Return a shallow copy of the list.\n",
      " |  \n",
      " |  count(self, value, /)\n",
      " |      Return number of occurrences of value.\n",
      " |  \n",
      " |  extend(self, iterable, /)\n",
      " |      Extend list by appending elements from the iterable.\n",
      " |  \n",
      " |  index(self, value, start=0, stop=9223372036854775807, /)\n",
      " |      Return first index of value.\n",
      " |      \n",
      " |      Raises ValueError if the value is not present.\n",
      " |  \n",
      " |  insert(self, index, object, /)\n",
      " |      Insert object before index.\n",
      " |  \n",
      " |  pop(self, index=-1, /)\n",
      " |      Remove and return item at index (default last).\n",
      " |      \n",
      " |      Raises IndexError if list is empty or index is out of range.\n",
      " |  \n",
      " |  remove(self, value, /)\n",
      " |      Remove first occurrence of value.\n",
      " |      \n",
      " |      Raises ValueError if the value is not present.\n",
      " |  \n",
      " |  reverse(self, /)\n",
      " |      Reverse *IN PLACE*.\n",
      " |  \n",
      " |  sort(self, /, *, key=None, reverse=False)\n",
      " |      Stable sort *IN PLACE*.\n",
      " |  \n",
      " |  ----------------------------------------------------------------------\n",
      " |  Static methods defined here:\n",
      " |  \n",
      " |  __new__(*args, **kwargs) from builtins.type\n",
      " |      Create and return a new object.  See help(type) for accurate signature.\n",
      " |  \n",
      " |  ----------------------------------------------------------------------\n",
      " |  Data and other attributes defined here:\n",
      " |  \n",
      " |  __hash__ = None\n",
      "\n"
     ]
    }
   ],
   "source": [
    "# Começamos declarando a lista\n",
    "lista = [1, 2, 3, 4, 5]\n",
    "\n",
    "# Vamos ver o que esse objeto pode fazer\n",
    "help(lista)"
   ]
  },
  {
   "cell_type": "markdown",
   "metadata": {},
   "source": [
    "Esse objeto possui diversos métodos (mas já esperávamos isso, pois é uma lista e sabemos que é possível fazer muitas coisas com listas). Um deles é o `__iter__()`. Quando chamamos a função `iter()` passando a `lista` como argumento, o Python vai chamar esse método mágico."
   ]
  },
  {
   "cell_type": "code",
   "execution_count": 18,
   "metadata": {},
   "outputs": [
    {
     "name": "stdout",
     "output_type": "stream",
     "text": [
      "<list_iterator object at 0x7f409c8a5210>\n",
      "Help on list_iterator object:\n",
      "\n",
      "class list_iterator(object)\n",
      " |  Methods defined here:\n",
      " |  \n",
      " |  __getattribute__(self, name, /)\n",
      " |      Return getattr(self, name).\n",
      " |  \n",
      " |  __iter__(self, /)\n",
      " |      Implement iter(self).\n",
      " |  \n",
      " |  __length_hint__(...)\n",
      " |      Private method returning an estimate of len(list(it)).\n",
      " |  \n",
      " |  __next__(self, /)\n",
      " |      Implement next(self).\n",
      " |  \n",
      " |  __reduce__(...)\n",
      " |      Return state information for pickling.\n",
      " |  \n",
      " |  __setstate__(...)\n",
      " |      Set state information for unpickling.\n",
      "\n"
     ]
    }
   ],
   "source": [
    "# Equivalente a iterator = lista.__iter__()\n",
    "iterator = iter(lista)\n",
    "\n",
    "# Vamos ver o que está guardado na variável iterator\n",
    "print(iterator)\n",
    "help(iterator)"
   ]
  },
  {
   "cell_type": "markdown",
   "metadata": {},
   "source": [
    "Esse objeto possui bem menos métodos, mas note que ele possui um `__iter__()` e um `__next__()`. Isso significa que ele é um iterator, pois implementa o protocolo de um iterador. Quando chamamos a função `next()` passando o iterador o Python chama (adivinhe...) o método `__next__()`."
   ]
  },
  {
   "cell_type": "code",
   "execution_count": 19,
   "metadata": {},
   "outputs": [
    {
     "name": "stdout",
     "output_type": "stream",
     "text": [
      "1\n",
      "2\n",
      "3\n",
      "4\n",
      "5\n"
     ]
    }
   ],
   "source": [
    "print(next(iterator))  # Imprime 1\n",
    "print(next(iterator))  # Imprime 2\n",
    "print(next(iterator))  # Imprime 3\n",
    "print(next(iterator))  # Imprime 4\n",
    "print(next(iterator))  # Imprime 5"
   ]
  },
  {
   "cell_type": "markdown",
   "metadata": {},
   "source": [
    "Agora acabaram-se os elementos da lista. Vamos ver o que acontece quando chamamos o `next()` mais uma vez."
   ]
  },
  {
   "cell_type": "code",
   "execution_count": 20,
   "metadata": {},
   "outputs": [
    {
     "ename": "StopIteration",
     "evalue": "",
     "output_type": "error",
     "traceback": [
      "\u001b[0;31m---------------------------------------------------------------------------\u001b[0m",
      "\u001b[0;31mStopIteration\u001b[0m                             Traceback (most recent call last)",
      "\u001b[0;32m<ipython-input-20-4ce711c44abc>\u001b[0m in \u001b[0;36m<module>\u001b[0;34m()\u001b[0m\n\u001b[0;32m----> 1\u001b[0;31m \u001b[0mnext\u001b[0m\u001b[0;34m(\u001b[0m\u001b[0miterator\u001b[0m\u001b[0;34m)\u001b[0m\u001b[0;34m\u001b[0m\u001b[0;34m\u001b[0m\u001b[0m\n\u001b[0m",
      "\u001b[0;31mStopIteration\u001b[0m: "
     ]
    }
   ],
   "source": [
    "next(iterator)"
   ]
  },
  {
   "cell_type": "markdown",
   "metadata": {},
   "source": [
    "Ele lança uma exceção do tipo `StopIteration`. Por isso precisamos do `try`/`except` no exemplo acima.\n",
    "\n",
    "**Exercício:** Agora vamos implementar um iterador para treinar. Implemente um iterador que pula de dois em dois elementos de uma lista."
   ]
  },
  {
   "cell_type": "code",
   "execution_count": 9,
   "metadata": {},
   "outputs": [],
   "source": [
    "class SkipIterator:\n",
    "    def __init__(self, lista):\n",
    "        self.lista = lista\n",
    "        self.i = 0\n",
    "        # Adicione os atributos que quiser aqui...\n",
    "\n",
    "    \n",
    "    def __iter__(self):\n",
    "        # Você não precisa modificar este método\n",
    "        return self\n",
    "    \n",
    "    def __next__(self):\n",
    "        try:\n",
    "            elemento = self.lista[self.i]\n",
    "            self.i = self.i + 2\n",
    "        except:\n",
    "            raise StopIteration()\n",
    "        return elemento\n",
    "        # Implemente aqui a funcionalidade de pular de 2 em 2\n",
    "\n",
    "\n",
    "# lista = list(range(100))\n",
    "# iterator = SkipIterator(lista)\n",
    "# for i in iterator:\n",
    "#     print(i)\n",
    "\n",
    "# NÃO MODIFIQUE AS LINHAS ABAIXO\n",
    "# Teste do SkipIterator\n",
    "lista = list(range(100))\n",
    "iterator = SkipIterator(lista)\n",
    "resultado = [i for i in iterator]\n",
    "esperado = lista[::2]\n",
    "assert resultado == esperado\n"
   ]
  },
  {
   "cell_type": "markdown",
   "metadata": {},
   "source": [
    "## `*args` e `**kwargs`\n",
    "\n",
    "Você já se perguntou como as funções que recebem quantidades arbitrárias de argumentos funcionam? Considere, por exemplo, a função `max()`. Ela pode receber dois, três, ou até mais argumentos e retorna o maior de todos:\n",
    "\n",
    "```python\n",
    "print(max(1, 2))  # imprime 2\n",
    "print(max(1, 2, 3))  # imprime 3\n",
    "print(max(1, 2, 3, 4))  # imprime 4\n",
    "print(max(1, 2, 3, 4, 5))  # imprime 5\n",
    "```\n",
    "\n",
    "Vamos ver a documentação da função `max`:"
   ]
  },
  {
   "cell_type": "code",
   "execution_count": 10,
   "metadata": {},
   "outputs": [
    {
     "name": "stdout",
     "output_type": "stream",
     "text": [
      "Help on built-in function max in module builtins:\n",
      "\n",
      "max(...)\n",
      "    max(iterable, *[, default=obj, key=func]) -> value\n",
      "    max(arg1, arg2, *args, *[, key=func]) -> value\n",
      "    \n",
      "    With a single iterable argument, return its biggest item. The\n",
      "    default keyword-only argument specifies an object to return if\n",
      "    the provided iterable is empty.\n",
      "    With two or more arguments, return the largest argument.\n",
      "\n"
     ]
    }
   ],
   "source": [
    "help(max)"
   ]
  },
  {
   "cell_type": "markdown",
   "metadata": {},
   "source": [
    "Note que o terceiro argumento da segunda versão da função `max` é `*args`. O uso do `*` indica para o Python que todos os argumentos a partir desse ponto (que não sejam keyword arguments - mais sobre isso depois) serão recebidos como uma tupla no argumento `args`. Para entender melhor vamos analisar o exemplo a seguir:"
   ]
  },
  {
   "cell_type": "code",
   "execution_count": 11,
   "metadata": {},
   "outputs": [
    {
     "name": "stdout",
     "output_type": "stream",
     "text": [
      "<class 'tuple'>\n"
     ]
    }
   ],
   "source": [
    "def my_avg(e1, e2,  args):\n",
    "    print(type(args))\n",
    "    \n",
    "\n",
    "my_avg(1, 2, 3, 4, 5, 6)"
   ]
  },
  {
   "cell_type": "markdown",
   "metadata": {},
   "source": [
    "**Exercício:** Vamos implementar a função `my_avg` que recebe **2 ou mais** argumentos e devolve a média aritmética entre eles."
   ]
  },
  {
   "cell_type": "code",
   "execution_count": 16,
   "metadata": {},
   "outputs": [],
   "source": [
    "def my_avg(e1, e2, *args):\n",
    "    avg = (e1 + e2 + sum(args)) / (2 + len(args))\n",
    "    return avg  # Implemente a média aqui\n",
    "\n",
    "\n",
    "# NÃO MODIFIQUE AS LINHAS ABAIXO\n",
    "assert my_avg(1, 3) == 2\n",
    "assert my_avg(1, 2, 3) == 2\n",
    "assert my_avg(1, 2, 3, 4, 5) == 3"
   ]
  },
  {
   "cell_type": "markdown",
   "metadata": {},
   "source": [
    "Considere agora a seguinte implementação alternativa da média:"
   ]
  },
  {
   "cell_type": "code",
   "execution_count": 17,
   "metadata": {},
   "outputs": [
    {
     "name": "stdout",
     "output_type": "stream",
     "text": [
      "1.0\n",
      "2.0\n",
      "3.0\n"
     ]
    }
   ],
   "source": [
    "def my_avg2(a=0, b=0, c=0):\n",
    "    return (a + b + c) / 3\n",
    "\n",
    "\n",
    "print(my_avg2(b=3))\n",
    "print(my_avg2(6))\n",
    "print(my_avg2(2, 3, 4))"
   ]
  },
  {
   "cell_type": "markdown",
   "metadata": {},
   "source": [
    "Podemos perceber que, ao utilizar argumentos padrão, não é necessário passar todos os argumentos. Isso também nos permite escolher algum argumento específico para ser passado e utilizar os valores padrão para os outros (ex: `my_avg(b=3)`). \n",
    "\n",
    "Agora considere o caso em que temos uma [lista grande de argumentos opcionais](https://matplotlib.org/3.1.1/api/_as_gen/matplotlib.lines.Line2D.html#matplotlib.lines.Line2D). Nesses casos pode ser interessante utilizar o `**kwargs`. O uso do `**` indica para o Python que o `kwargs` será um dicionário contendo os argumentos recebidos pela função que foram definidos com um nome. Exemplo:"
   ]
  },
  {
   "cell_type": "code",
   "execution_count": null,
   "metadata": {},
   "outputs": [],
   "source": [
    "def test_kwargs(**kwargs):\n",
    "    print(type(kwargs))\n",
    "    print(kwargs)\n",
    "\n",
    "\n",
    "test_kwargs(a=1, b=2, c=3)"
   ]
  },
  {
   "cell_type": "markdown",
   "metadata": {},
   "source": [
    "Também funciona no sentido contrário:"
   ]
  },
  {
   "cell_type": "code",
   "execution_count": 18,
   "metadata": {},
   "outputs": [
    {
     "name": "stdout",
     "output_type": "stream",
     "text": [
      "21\n"
     ]
    }
   ],
   "source": [
    "def test_arg_passing(a, b, c, d, e, f):\n",
    "    return a + b + c + d + e + f\n",
    "\n",
    "\n",
    "argumentos_como_tupla = (1, 2, 3)\n",
    "argumentos_como_dicionario = {'d': 4, 'e': 5, 'f': 6}\n",
    "print(test_arg_passing(*argumentos_como_tupla, **argumentos_como_dicionario))"
   ]
  },
  {
   "cell_type": "markdown",
   "metadata": {},
   "source": [
    "Podemos utilizar essas ideias para, por exemplo, implementar esta elegante intersecção de dicionários:"
   ]
  },
  {
   "cell_type": "code",
   "execution_count": 19,
   "metadata": {},
   "outputs": [
    {
     "name": "stdout",
     "output_type": "stream",
     "text": [
      "{0: 0, 1: 1, 2: 2, 3: 3, 4: 4, 5: 5, 6: 6, 7: 7, 8: 8, 9: 9}\n",
      "{5: 15, 6: 16, 7: 17, 8: 18, 9: 19, 10: 20, 11: 21, 12: 22, 13: 23, 14: 24}\n",
      "{0: 0, 1: 1, 2: 2, 3: 3, 4: 4, 5: 15, 6: 16, 7: 17, 8: 18, 9: 19, 10: 20, 11: 21, 12: 22, 13: 23, 14: 24}\n"
     ]
    }
   ],
   "source": [
    "a = dict(zip(range(10), range(10)))\n",
    "b = dict(zip(range(5,15), range(15,25)))\n",
    "c = {**a, **b}\n",
    "print(a)\n",
    "print(b)\n",
    "print(c)"
   ]
  },
  {
   "cell_type": "markdown",
   "metadata": {},
   "source": [
    "**Exercício:** Explique brevemente o que acontece na terceira linha da célula acima.\n",
    "\n",
    "**Resposta:**\n",
    "\n",
    "Quando o operador ** é usado, estamos atribuindo valores à chaves de dicionários, quando pasamos dois \"kwarg\" para um dicionário, as chaves que estão repetidas, terão o valor do segundo \"kwarg\""
   ]
  },
  {
   "cell_type": "markdown",
   "metadata": {},
   "source": [
    "Para saber mais: https://realpython.com/python-kwargs-and-args/"
   ]
  },
  {
   "cell_type": "markdown",
   "metadata": {},
   "source": [
    "## Desempacotamento de tuplas\n",
    "\n",
    "Talvez você já tenha utilizado e/ou criado funções que retornam mais do que um elemento:"
   ]
  },
  {
   "cell_type": "code",
   "execution_count": 20,
   "metadata": {},
   "outputs": [],
   "source": [
    "def return_multiple():\n",
    "    return 1, 2, 3\n",
    "\n",
    "\n",
    "a, b, c = return_multiple()"
   ]
  },
  {
   "cell_type": "markdown",
   "metadata": {},
   "source": [
    "O que acontece nesse caso?\n",
    "\n",
    "Em Python, quando declaramos valores separados por vírgula estamos, na verdade, criando uma tupla (não precisamos utilizar os parênteses se não houver ambiguidade):"
   ]
  },
  {
   "cell_type": "code",
   "execution_count": 21,
   "metadata": {},
   "outputs": [
    {
     "name": "stdout",
     "output_type": "stream",
     "text": [
      "<class 'tuple'>\n",
      "(1, 2, 3, 4, 5, 6)\n"
     ]
    }
   ],
   "source": [
    "tupla_com_virgulas = 1, 2, 3, 4, 5, 6\n",
    "\n",
    "print(type(tupla_com_virgulas))\n",
    "print(tupla_com_virgulas)"
   ]
  },
  {
   "cell_type": "markdown",
   "metadata": {},
   "source": [
    "Ou seja, quando retornamos valores separados por vírgulas, estamos na verdade retornando um único valor: uma tupla contendo todos os valores retornados.\n",
    "\n",
    "Isso é conhecido como empacotamento/desempacotamento de tuplas ([*tuple unpacking*](https://realpython.com/python-lists-tuples/#tuple-assignment-packing-and-unpacking)). Basicamente, você pode atribuir os valores de uma tupla a variáveis distintas:"
   ]
  },
  {
   "cell_type": "code",
   "execution_count": 22,
   "metadata": {},
   "outputs": [
    {
     "name": "stdout",
     "output_type": "stream",
     "text": [
      "(1, 2, 3) 1 2 3\n"
     ]
    }
   ],
   "source": [
    "a = (1, 2, 3)\n",
    "c, d, e = a\n",
    "print(a, c, d, e)"
   ]
  },
  {
   "cell_type": "markdown",
   "metadata": {},
   "source": [
    "Um resultado disso é que podemos implementar uma [troca de variáveis](https://en.wikipedia.org/wiki/Assignment_(computer_science)#Parallel_assignment) bastante elegante:"
   ]
  },
  {
   "cell_type": "code",
   "execution_count": 23,
   "metadata": {},
   "outputs": [
    {
     "name": "stdout",
     "output_type": "stream",
     "text": [
      "Antes 1 2\n",
      "Depois 2 1\n"
     ]
    }
   ],
   "source": [
    "a = 1\n",
    "b = 2\n",
    "print('Antes', a, b)\n",
    "\n",
    "\n",
    "# Troca de variáveis em uma linha\n",
    "a, b = b, a\n",
    "\n",
    "\n",
    "print('Depois', a, b)"
   ]
  },
  {
   "cell_type": "markdown",
   "metadata": {},
   "source": [
    "Podemos combinar as ideias acima:"
   ]
  },
  {
   "cell_type": "code",
   "execution_count": 24,
   "metadata": {},
   "outputs": [
    {
     "name": "stdout",
     "output_type": "stream",
     "text": [
      "1 2 3 4 5 6 7 8 9\n"
     ]
    }
   ],
   "source": [
    "f = (2, 3, 4, 5, 6, 7, 8)\n",
    "a, b, *c, d, e = 1, *f, 9\n",
    "print(a, b, *c, d, e)"
   ]
  },
  {
   "cell_type": "code",
   "execution_count": 36,
   "metadata": {},
   "outputs": [
    {
     "name": "stdout",
     "output_type": "stream",
     "text": [
      "[1, 2]\n"
     ]
    }
   ],
   "source": [
    "b = (1, 2, 3)\n",
    "*a, c = b\n",
    "print(a)"
   ]
  },
  {
   "cell_type": "markdown",
   "metadata": {},
   "source": [
    "**Exercício:** Explique brevemente o que está acontecendo no código da célula acima.\n",
    "\n",
    "**Resposta:**\n",
    "\n",
    "Quando temos uma atribuição no formato: variável, variável = *variável. Os elementos à esquerda, receberão os elementos da variável à direita desempacotada. Quando temos algo no formato: *a, b = *c. A variável a receberá todos os valores de c, menos o último, que irá para b.\n",
    "\n",
    "No caso acima, desempacotamos a variável f e passamos parte dela para b, parte para c e parte para d."
   ]
  },
  {
   "cell_type": "markdown",
   "metadata": {},
   "source": [
    "**Exercício:** Escreva um código para imprimir os elementos de uma lista \"de fora para dentro\", ou seja, em cada linha devem ser impressos o primeiro e o último elemento, depois o segundo e o penúltimo, e assim por diante. Exemplo:\n",
    "\n",
    "A lista `[0, 1, 2, 3, 4, 5, 6, 7, 8, 9]` deve ser apresentada da seguinte maneira:\n",
    "\n",
    "```\n",
    "0 9\n",
    "1 8\n",
    "2 7\n",
    "3 6\n",
    "4 5\n",
    "```\n",
    "\n",
    "Você pode admitir que o número de elementos da lista é par. \n",
    "\n",
    "**Observação:** a ideia de empacotamento/desempacotamento de tuplas também funciona com listas.\n",
    "\n",
    "**Condições:** seu código **não pode** utilizar índices, nem fatiamento e deve ser escrito inteiramente dentro do `while` abaixo:"
   ]
  },
  {
   "cell_type": "code",
   "execution_count": 39,
   "metadata": {},
   "outputs": [
    {
     "name": "stdout",
     "output_type": "stream",
     "text": [
      "0 9\n",
      "1 8\n",
      "2 7\n",
      "3 6\n",
      "4 5\n"
     ]
    }
   ],
   "source": [
    "numbers = [0, 1, 2, 3, 4, 5, 6, 7, 8, 9]\n",
    "\n",
    "\n",
    "while numbers:\n",
    "    left, *numbers, right = numbers\n",
    "    print(left, right)"
   ]
  },
  {
   "cell_type": "markdown",
   "metadata": {},
   "source": [
    "# Outros detalhes sobre Python\n",
    "\n",
    "## Valores de argumento padrão\n",
    "\n",
    "O código a seguir possui um bug:"
   ]
  },
  {
   "cell_type": "code",
   "execution_count": 57,
   "metadata": {},
   "outputs": [
    {
     "name": "stdout",
     "output_type": "stream",
     "text": [
      "[] []\n",
      "[0] [0]\n",
      "[0, 0, 1] [0, 1]\n",
      "[0, 0, 1, 0, 1, 2] [0, 1, 2]\n",
      "[0, 0, 1, 0, 1, 2, 0, 1, 2, 3] [0, 1, 2, 3]\n",
      "[0, 0, 1, 0, 1, 2, 0, 1, 2, 3, 0, 1, 2, 3, 4] [0, 1, 2, 3, 4]\n",
      "[0, 0, 1, 0, 1, 2, 0, 1, 2, 3, 0, 1, 2, 3, 4, 0, 1, 2, 3, 4, 5] [0, 1, 2, 3, 4, 5]\n"
     ]
    }
   ],
   "source": [
    "def append_range(start, end, step=1, to=[]):\n",
    "    for i in range(start, end, step):\n",
    "        to.append(i)\n",
    "    return to\n",
    "\n",
    "for i in range(7):\n",
    "    r1 = append_range(0, i)\n",
    "    r2 = append_range(0, i, to=[])\n",
    "    print(r1, r2)"
   ]
  },
  {
   "cell_type": "markdown",
   "metadata": {},
   "source": [
    "Os valores de `r1` e `r2` deveriam ser sempre iguais. Por que não são? \n",
    "\n",
    "Se não souber, leia a primeira seção [deste artigo](https://docs.python-guide.org/writing/gotchas/#mutable-default-arguments).\n",
    "\n",
    "**Exercício:** corrija o bug **modificando apenas a função `append_range`**."
   ]
  },
  {
   "cell_type": "code",
   "execution_count": 58,
   "metadata": {},
   "outputs": [
    {
     "ename": "AssertionError",
     "evalue": "",
     "output_type": "error",
     "traceback": [
      "\u001b[0;31m---------------------------------------------------------------------------\u001b[0m",
      "\u001b[0;31mAssertionError\u001b[0m                            Traceback (most recent call last)",
      "\u001b[0;32m<ipython-input-58-834bd1d230de>\u001b[0m in \u001b[0;36m<module>\u001b[0;34m()\u001b[0m\n\u001b[1;32m     10\u001b[0m     \u001b[0mr1\u001b[0m \u001b[0;34m=\u001b[0m \u001b[0mappend_range\u001b[0m\u001b[0;34m(\u001b[0m\u001b[0;36m0\u001b[0m\u001b[0;34m,\u001b[0m \u001b[0mi\u001b[0m\u001b[0;34m)\u001b[0m\u001b[0;34m\u001b[0m\u001b[0;34m\u001b[0m\u001b[0m\n\u001b[1;32m     11\u001b[0m     \u001b[0mr2\u001b[0m \u001b[0;34m=\u001b[0m \u001b[0mappend_range\u001b[0m\u001b[0;34m(\u001b[0m\u001b[0;36m0\u001b[0m\u001b[0;34m,\u001b[0m \u001b[0mi\u001b[0m\u001b[0;34m,\u001b[0m \u001b[0mto\u001b[0m\u001b[0;34m=\u001b[0m\u001b[0;34m[\u001b[0m\u001b[0;34m]\u001b[0m\u001b[0;34m)\u001b[0m\u001b[0;34m\u001b[0m\u001b[0;34m\u001b[0m\u001b[0m\n\u001b[0;32m---> 12\u001b[0;31m     \u001b[0;32massert\u001b[0m \u001b[0mr1\u001b[0m \u001b[0;34m==\u001b[0m \u001b[0mr2\u001b[0m\u001b[0;34m\u001b[0m\u001b[0;34m\u001b[0m\u001b[0m\n\u001b[0m",
      "\u001b[0;31mAssertionError\u001b[0m: "
     ]
    }
   ],
   "source": [
    "# Corrija o bug modificando somente a função abaixo\n",
    "def append_range(start, end, step=1, to=[]):\n",
    "    for i in range(start, end, step):\n",
    "        to.append(i)\n",
    "    tmp = to\n",
    "    to = None\n",
    "    return tmp\n",
    "\n",
    "for i in range(7):\n",
    "    r1 = append_range(0, i)\n",
    "    r2 = append_range(0, i, to=[])\n",
    "    assert r1 == r2"
   ]
  },
  {
   "cell_type": "markdown",
   "metadata": {},
   "source": [
    "### Variáveis globais\n",
    "\n",
    "Ambas as funções usam \"variáveis globais\", mas uma funciona e a outra não."
   ]
  },
  {
   "cell_type": "code",
   "execution_count": null,
   "metadata": {},
   "outputs": [],
   "source": [
    "variavel_global = 10\n",
    "\n",
    "def func1(n):\n",
    "    for i in range(n):\n",
    "        print(variavel_global)\n",
    "\n",
    "def func2(n):\n",
    "    for i in range(n):\n",
    "        variavel_global += i\n",
    "        print(variavel_global)\n",
    "\n",
    "func1(10)\n",
    "func2(10)"
   ]
  },
  {
   "cell_type": "markdown",
   "metadata": {},
   "source": [
    "**Exercício:** Explique por que uma das funções acima funciona e a outra não.\n",
    "    \n",
    "**Resposta:**\n",
    "\n",
    "[Escreva sua resposta aqui...]"
   ]
  },
  {
   "cell_type": "markdown",
   "metadata": {},
   "source": [
    "### VARIAVEL is None\n",
    "\n",
    "Talvez você já tenha escutado alguém falando que é melhor verificar se um objeto é `None` utilizando `is` ao invés de `==`. Vamos discutir rapidamente o porquê disso. Considere o seguinte exemplo:"
   ]
  },
  {
   "cell_type": "code",
   "execution_count": null,
   "metadata": {},
   "outputs": [],
   "source": [
    "class MyClass:\n",
    "    def __eq__(self, other):\n",
    "        return True\n",
    "\n",
    "\n",
    "var = MyClass()\n",
    "print(var == None)\n",
    "print(var is None)"
   ]
  },
  {
   "cell_type": "markdown",
   "metadata": {},
   "source": [
    "**Exercício:** Pesquise sobre a diferença entre `==` e `is` em Python. Explique brevemente por que devemos utilizar `is None` ao invés de `== None` para verificar se uma variável guarda o valor `None`.\n",
    "\n",
    "Possíveis referências:\n",
    "- https://dbader.org/blog/difference-between-is-and-equals-in-python\n",
    "- https://www.alura.com.br/artigos/qual-a-diferenca-entre-e-is-no-python\n",
    "\n",
    "**Resposta:**\n",
    "\n",
    "[Escreva sua resposta aqui...]"
   ]
  },
  {
   "cell_type": "markdown",
   "metadata": {},
   "source": [
    "# Outras coisas interessantes para estudar\n",
    "\n",
    "Nesta atividade espero ter apresentado algumas maneiras de escrever código \"mais Pythônico\". Entretanto, ainda existem **muitas** outras coisas que não conseguimos cobrir. Caso tenha interesse, alguns possíveis tópicos para estudo são:\n",
    "\n",
    "- Zen of Python: execute o código `import this`\n",
    "- [funções aninhadas](https://realpython.com/inner-functions-what-are-they-good-for/)\n",
    "- [mypy](http://mypy-lang.org/)\n",
    "- [type hints](https://docs.python.org/3/library/typing.html)\n",
    "- [underscores, dunders, name mangling](https://dbader.org/blog/meaning-of-underscores-in-python)\n",
    "- [decorators](https://realpython.com/primer-on-python-decorators/)\n",
    "- [PEP8](https://www.python.org/dev/peps/pep-0008/)\n",
    "- [variáveis são passadas por valor ou referência?](https://realpython.com/python-variables/)\n",
    "- [formatação de strings](https://realpython.com/python-string-formatting/)\n",
    "- [módulo `collections`](https://towardsdatascience.com/pythons-collections-module-high-performance-container-data-types-cb4187afb5fc)"
   ]
  }
 ],
 "metadata": {
  "kernelspec": {
   "display_name": "Python 3",
   "language": "python",
   "name": "python3"
  },
  "language_info": {
   "codemirror_mode": {
    "name": "ipython",
    "version": 3
   },
   "file_extension": ".py",
   "mimetype": "text/x-python",
   "name": "python",
   "nbconvert_exporter": "python",
   "pygments_lexer": "ipython3",
   "version": "3.7.5rc1"
  }
 },
 "nbformat": 4,
 "nbformat_minor": 2
}
